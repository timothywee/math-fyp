{
 "cells": [
  {
   "cell_type": "code",
   "execution_count": 2,
   "metadata": {
    "collapsed": true
   },
   "outputs": [],
   "source": [
    "import numpy as np\n",
    "import matplotlib.pyplot as plt\n",
    "import itertools as itt\n",
    "import random\n",
    "import math"
   ]
  },
  {
   "cell_type": "code",
   "execution_count": 48,
   "metadata": {
    "collapsed": false
   },
   "outputs": [
    {
     "data": {
      "text/plain": [
       "['1111',\n",
       " '1110',\n",
       " '1101',\n",
       " '1100',\n",
       " '1011',\n",
       " '1010',\n",
       " '1001',\n",
       " '1000',\n",
       " '0111',\n",
       " '0110',\n",
       " '0101',\n",
       " '0100',\n",
       " '0011',\n",
       " '0010',\n",
       " '0001',\n",
       " '0000']"
      ]
     },
     "execution_count": 48,
     "metadata": {},
     "output_type": "execute_result"
    }
   ],
   "source": [
    "domX = {'0', '1'}\n",
    "X1toX4_sequences = [\"\".join(s) for s in list(itt.product(domX, repeat=4))]\n",
    "X1toX4_sequences"
   ]
  },
  {
   "cell_type": "code",
   "execution_count": 4,
   "metadata": {
    "collapsed": false
   },
   "outputs": [
    {
     "data": {
      "text/plain": [
       "['11', '10', '01', '00']"
      ]
     },
     "execution_count": 4,
     "metadata": {},
     "output_type": "execute_result"
    }
   ],
   "source": [
    "XiXj_sequences = [\"\".join(s) for s in list(itt.product(domX, repeat=2))]\n",
    "XiXj_sequences"
   ]
  },
  {
   "cell_type": "code",
   "execution_count": 5,
   "metadata": {
    "collapsed": false
   },
   "outputs": [
    {
     "name": "stdout",
     "output_type": "stream",
     "text": [
      "theta_1_star: {'1111': 1.697772413765899, '1110': 2.341065092610419, '1101': 2.165834505234722, '1100': 2.48846967395363, '1011': 1.3620956600703564, '1010': 2.0676102648563415, '1001': 1.5758347583314596, '1000': 1.0090001467330634, '0111': 2.293877899786428, '0110': 2.8609170543231626, '0101': 2.3174337489846346, '0100': 1.593531700790908, '0011': 1.0372471630734352, '0010': 1.6625021109095108, '0001': 2.4816833181652993, '0000': 2.8109676440863103}\n"
     ]
    }
   ],
   "source": [
    "theta_1_star = dict(zip(X1toX4_sequences, [random.uniform(1,3) for x in range(len(X1toX4_sequences))]))\n",
    "print('theta_1_star: %s' % theta_1_star)"
   ]
  },
  {
   "cell_type": "code",
   "execution_count": 7,
   "metadata": {
    "collapsed": false
   },
   "outputs": [
    {
     "name": "stdout",
     "output_type": "stream",
     "text": [
      "theta_2_star: {'1111': 0.0, '1110': 0.0, '1101': 0.0, '1100': 0.0, '1011': 0.0, '1010': 0.0, '1001': 0.0, '1000': 0.0, '0111': 0.0, '0110': 0.0, '0101': 0.0, '0100': 0.0, '0011': 0.0, '0010': 0.0, '0001': 0.0, '0000': 4}\n"
     ]
    }
   ],
   "source": [
    "theta_2_star = dict(zip(X1toX4_sequences, np.zeros(len(X1toX4_sequences))))\n",
    "theta_2_star['0000'] = 4\n",
    "print('theta_2_star: %s' % theta_2_star)"
   ]
  },
  {
   "cell_type": "code",
   "execution_count": 11,
   "metadata": {
    "collapsed": false
   },
   "outputs": [
    {
     "data": {
      "image/png": "[encoded data removed]",
      "text/plain": [
       "<matplotlib.figure.Figure at 0x246d11be2e8>"
      ]
     },
     "metadata": {},
     "output_type": "display_data"
    }
   ],
   "source": [
    "fig_theta, (ax1, ax2) = plt.subplots(2, sharex=True, figsize=(10,6))\n",
    "\n",
    "ax1.bar(list(range(16)), list(theta_1_star.values()),width=0.15)\n",
    "ax2.bar(list(range(16)), list(theta_2_star.values()),width=0.15)\n",
    "\n",
    "ax1.set_xticks(list(range(16)))\n",
    "ax1.set_xticklabels(X1toX4_sequences)\n",
    "ax1.set_yticks(range(1,4,1))\n",
    "ax1.set_ylabel(r'$\\theta_{A_1}^{*}$ weights')\n",
    "\n",
    "ax2.set_yticks(range(0,12,1))\n",
    "ax2.axhline()\n",
    "ax2.set_ylabel(r'$\\theta_{A_2}^{*}$ weights')\n",
    "ax2.set_xlabel('Sequences')\n",
    "\n",
    "plt.subplots_adjust(hspace = .05)\n",
    "ax1.set_title(r'Distribution of $\\theta_{A_1}^{*}, \\theta_{A_2}^{*}$ weights over possible $\\{ 0, 1 \\}^{4}$ sequences')\n",
    "\n",
    "plt.savefig(\"theta_star_fig.png\", dpi=300, bbox_inches='tight')\n",
    "plt.show()"
   ]
  },
  {
   "cell_type": "code",
   "execution_count": 12,
   "metadata": {
    "collapsed": false
   },
   "outputs": [
    {
     "data": {
      "image/png": "[encoded data removed]",
      "text/plain": [
       "<matplotlib.figure.Figure at 0x246d5b0ce48>"
      ]
     },
     "metadata": {},
     "output_type": "display_data"
    }
   ],
   "source": [
    "fig_theta_1_star, ax1 = plt.subplots(1, figsize=(10,6))\n",
    "ax1.bar(list(range(16)), list(theta_1_star.values()),width=0.15)\n",
    "ax1.set_xticks(list(range(16)))\n",
    "ax1.set_xticklabels(X1toX4_sequences)\n",
    "ax1.set_yticks(range(1,4,1))\n",
    "ax1.set_ylabel(r'$\\theta_{A_1}^{*}$ weights')\n",
    "ax1.set_xlabel('Sequences')\n",
    "ax1.set_title(r'Distribution of $\\theta_{A_1}^{*}$ weights over possible $\\{ 0, 1 \\}^{4}$ sequences')\n",
    "\n",
    "plt.savefig(\"theta_A1_star_fig.png\", dpi=300, bbox_inches='tight')\n",
    "plt.show()"
   ]
  },
  {
   "cell_type": "code",
   "execution_count": 143,
   "metadata": {
    "collapsed": false
   },
   "outputs": [
    {
     "data": {
      "image/png": "[encoded data removed]",
      "text/plain": [
       "<matplotlib.figure.Figure at 0x246d40d8860>"
      ]
     },
     "metadata": {},
     "output_type": "display_data"
    }
   ],
   "source": [
    "fig_theta_45_star, ax1 = plt.subplots(1, figsize=(6,6))\n",
    "ax1.bar(list(range(4)), list(theta_45_star.values()),width=0.15)\n",
    "ax1.set_xticks(list(range(4)))\n",
    "ax1.set_xticklabels(XiXj_sequences)\n",
    "ax1.set_yticks(range(1,4,1))\n",
    "ax1.set_ylabel(r'$\\theta_{45}^{*}$ weights')\n",
    "ax1.set_xlabel('Sequences')\n",
    "ax1.set_title(r'Distribution of $\\theta_{45}^{*}$ weights over possible $\\{ 0, 1 \\}^{2}$ sequences')\n",
    "\n",
    "plt.savefig(\"theta_45_star_fig.png\", dpi=300, bbox_inches='tight')\n",
    "plt.show()"
   ]
  },
  {
   "cell_type": "code",
   "execution_count": 14,
   "metadata": {
    "collapsed": false
   },
   "outputs": [
    {
     "data": {
      "image/png": "[encoded data removed]",
      "text/plain": [
       "<matplotlib.figure.Figure at 0x246d5972b38>"
      ]
     },
     "metadata": {},
     "output_type": "display_data"
    }
   ],
   "source": [
    "fig_theta_2_star, ax1 = plt.subplots(1, figsize=(10,6))\n",
    "ax1.bar(list(range(16)), list(theta_2_star.values()),width=0.15)\n",
    "ax1.set_xticks(list(range(16)))\n",
    "ax1.set_xticklabels(X1toX4_sequences)\n",
    "ax1.set_yticks(range(1,4,1))\n",
    "ax1.set_ylabel(r'$\\theta_{A_2}^{*}$ weights')\n",
    "ax1.set_xlabel('Sequences')\n",
    "ax1.set_title(r'Distribution of $\\theta_{A_2}^{*}$ weights over possible $\\{ 0, 1 \\}^{4}$ sequences')\n",
    "\n",
    "plt.savefig(\"theta_A2_star_fig.png\", dpi=300, bbox_inches='tight')\n",
    "plt.show()"
   ]
  },
  {
   "cell_type": "code",
   "execution_count": 15,
   "metadata": {
    "collapsed": false
   },
   "outputs": [
    {
     "name": "stdout",
     "output_type": "stream",
     "text": [
      "['11111111', '11111110', '11111101', '11111100', '11111011', '11111010', '11111001', '11111000', '11110111', '11110110', '11110101', '11110100', '11110011', '11110010', '11110001', '11110000', '11101111', '11101110', '11101101', '11101100', '11101011', '11101010', '11101001', '11101000', '11100111', '11100110', '11100101', '11100100', '11100011', '11100010', '11100001', '11100000', '11011111', '11011110', '11011101', '11011100', '11011011', '11011010', '11011001', '11011000', '11010111', '11010110', '11010101', '11010100', '11010011', '11010010', '11010001', '11010000', '11001111', '11001110', '11001101', '11001100', '11001011', '11001010', '11001001', '11001000', '11000111', '11000110', '11000101', '11000100', '11000011', '11000010', '11000001', '11000000', '10111111', '10111110', '10111101', '10111100', '10111011', '10111010', '10111001', '10111000', '10110111', '10110110', '10110101', '10110100', '10110011', '10110010', '10110001', '10110000', '10101111', '10101110', '10101101', '10101100', '10101011', '10101010', '10101001', '10101000', '10100111', '10100110', '10100101', '10100100', '10100011', '10100010', '10100001', '10100000', '10011111', '10011110', '10011101', '10011100', '10011011', '10011010', '10011001', '10011000', '10010111', '10010110', '10010101', '10010100', '10010011', '10010010', '10010001', '10010000', '10001111', '10001110', '10001101', '10001100', '10001011', '10001010', '10001001', '10001000', '10000111', '10000110', '10000101', '10000100', '10000011', '10000010', '10000001', '10000000', '01111111', '01111110', '01111101', '01111100', '01111011', '01111010', '01111001', '01111000', '01110111', '01110110', '01110101', '01110100', '01110011', '01110010', '01110001', '01110000', '01101111', '01101110', '01101101', '01101100', '01101011', '01101010', '01101001', '01101000', '01100111', '01100110', '01100101', '01100100', '01100011', '01100010', '01100001', '01100000', '01011111', '01011110', '01011101', '01011100', '01011011', '01011010', '01011001', '01011000', '01010111', '01010110', '01010101', '01010100', '01010011', '01010010', '01010001', '01010000', '01001111', '01001110', '01001101', '01001100', '01001011', '01001010', '01001001', '01001000', '01000111', '01000110', '01000101', '01000100', '01000011', '01000010', '01000001', '01000000', '00111111', '00111110', '00111101', '00111100', '00111011', '00111010', '00111001', '00111000', '00110111', '00110110', '00110101', '00110100', '00110011', '00110010', '00110001', '00110000', '00101111', '00101110', '00101101', '00101100', '00101011', '00101010', '00101001', '00101000', '00100111', '00100110', '00100101', '00100100', '00100011', '00100010', '00100001', '00100000', '00011111', '00011110', '00011101', '00011100', '00011011', '00011010', '00011001', '00011000', '00010111', '00010110', '00010101', '00010100', '00010011', '00010010', '00010001', '00010000', '00001111', '00001110', '00001101', '00001100', '00001011', '00001010', '00001001', '00001000', '00000111', '00000110', '00000101', '00000100', '00000011', '00000010', '00000001', '00000000']\n"
     ]
    }
   ],
   "source": [
    "X1toX8_sequences = [\"\".join(s) for s in list(itt.product(domX, repeat=8))]\n",
    "print(X1toX8_sequences)"
   ]
  },
  {
   "cell_type": "code",
   "execution_count": 18,
   "metadata": {
    "collapsed": true
   },
   "outputs": [],
   "source": [
    "## Helpers\n",
    "def add_dict(d1, d2):\n",
    "    d1_val = list(d1.values())\n",
    "    d2_val = list(d2.values())\n",
    "    newd_val = np.add(d1_val, d2_val)\n",
    "    newd_key = list(d1.keys())\n",
    "    newd = dict(zip(newd_key, newd_val))\n",
    "    return newd\n",
    "def subtract_dict(d1, d2):\n",
    "    d1_val = list(d1.values())\n",
    "    d2_val = list(d2.values())\n",
    "    newd_val = np.subtract(d1_val, d2_val)\n",
    "    newd_key = list(d1.keys())\n",
    "    newd = dict(zip(newd_key, newd_val))\n",
    "    return newd\n",
    "def scalarmult_dict(a, d):\n",
    "    d_val = list(d.values())\n",
    "    newd_val = np.multiply(a, d_val)\n",
    "    newd_key = list(d.keys())\n",
    "    newd = dict(zip(newd_key, newd_val))\n",
    "    return newd\n",
    "def l1norm_dict(d):\n",
    "    d_val = list(d.values())\n",
    "    d_val = np.absolute(d_val)\n",
    "    return np.sum(d_val)"
   ]
  },
  {
   "cell_type": "code",
   "execution_count": 100,
   "metadata": {
    "collapsed": true
   },
   "outputs": [],
   "source": [
    "def comp_mb_grad_ascent(theta_k, X, eta, tau, it_count, mb_size, A_k, J, lmbda, epochs):\n",
    "    \n",
    "    scalar_samples_count = 0\n",
    "    unique_xi = {x_i for X_seq in A_k for x_i in X_seq} # get the set of X_i's associated with this component\n",
    "    theta_k_t_th = theta_k\n",
    "    iter_count = it_count\n",
    "    \n",
    "    for epoch in range(epochs):    \n",
    "        for i in range(0, len(X), mb_size):\n",
    "            curr_mb = X[i:i + mb_size]\n",
    "            curr_mb_size = len(curr_mb)\n",
    "\n",
    "            mb_grad_theta = dict(zip(list(theta_k_t_th.keys()), np.zeros(len(theta_k_t_th))))\n",
    "\n",
    "            for x in curr_mb:\n",
    "                f_Ak_1 = dict(zip(list(theta_k_t_th.keys()), np.zeros(len(theta_k_t_th))))\n",
    "                f_Ak_2 = dict(zip(list(theta_k_t_th.keys()), np.zeros(len(theta_k_t_th))))                \n",
    "                for X_seq in A_k:                    \n",
    "                    x_A_k = \"\".join(x[int(ind)] for ind in X_seq)\n",
    "                    # First term\n",
    "                    f_Ak_1[x_A_k] = 1.0\n",
    "                    # Second term                    \n",
    "                    Z_theta_Ak_given_notAk_i = 0.0\n",
    "                    possible_X_seq = [s for s in theta_k_t_th.keys() if len(s) == len(X_seq)]\n",
    "                    for xseq in possible_X_seq:\n",
    "                        xseq_thetak_t_th_mp = math.exp(theta_k_t_th[xseq])\n",
    "                        f_Ak_2[xseq] = xseq_thetak_t_th_mp\n",
    "                        Z_theta_Ak_given_notAk_i += xseq_thetak_t_th_mp\n",
    "                grad_theta = subtract_dict(scalarmult_dict(J, f_Ak_1), scalarmult_dict(1.0/Z_theta_Ak_given_notAk_i, f_Ak_2)) \n",
    "                mb_grad_theta = add_dict(grad_theta, mb_grad_theta)                    \n",
    "                scalar_samples_count += len(unique_xi)\n",
    "\n",
    "            ## Average over mb_size\n",
    "            mb_grad_theta = scalarmult_dict(1.0/curr_mb_size, mb_grad_theta)\n",
    "\n",
    "            ## Regularizer\n",
    "            reg = scalarmult_dict(1.0 * lmbda, theta_k_t_th)\n",
    "\n",
    "            ## Update theta to (t+1)th\n",
    "            #theta_k_t_th = add_dict(theta_k_t_th, scalarmult_dict(eta, mb_grad_theta))\n",
    "            eta = ((1.0 - (iter_count/tau)) * eta) + ((iter_count/tau) * eta * 0.01) if (iter_count < tau) else eta * 0.01\n",
    "            theta_k_t_th = add_dict(theta_k_t_th, scalarmult_dict(eta, subtract_dict(mb_grad_theta, reg)))\n",
    "            iter_count += 1\n",
    "        #print('>epoch %s of %s' % (epoch + 1, epochs))\n",
    "    \n",
    "    return theta_k_t_th, scalar_samples_count / epochs"
   ]
  },
  {
   "cell_type": "code",
   "execution_count": 167,
   "metadata": {
    "collapsed": true
   },
   "outputs": [],
   "source": [
    "def mle_mb_grad_ascent(theta_full, X, eta, tau, mb_size, lmbda, epochs, possible_X_seq):\n",
    "    theta_t_th = theta_full\n",
    "    iter_count = 0\n",
    "    for epoch in range(epochs):    \n",
    "        for i in range(0, len(X), mb_size):\n",
    "            curr_mb = X[i:i + mb_size]\n",
    "            curr_mb_size = len(curr_mb)\n",
    "            \n",
    "            mb_grad_theta = dict(zip(list(theta_full.keys()), np.zeros(len(theta_full))))\n",
    "            \n",
    "            for x in curr_mb:                \n",
    "                f_full_1 = dict(zip(list(theta_full.keys()), np.zeros(len(theta_full))))\n",
    "                f_full_2 = dict(zip(list(theta_full.keys()), np.zeros(len(theta_full))))\n",
    "                # First term\n",
    "                x1x2x3x4 = x[:4]\n",
    "                x4x5 = x[3:5]\n",
    "                x5x6x7x8 = x[-4:]                \n",
    "                f_full_1['1,' + x1x2x3x4] = 1.0\n",
    "                f_full_1[x4x5] = 1.0\n",
    "                f_full_1['2,' + x5x6x7x8] = 1.0\n",
    "                # Second term\n",
    "                Z = 0.0\n",
    "                for xseq in possible_X_seq:\n",
    "                    x1x2x3x4_seq = xseq[:4]\n",
    "                    x4x5_seq = xseq[3:5]\n",
    "                    x5x6x7x8_seq = xseq[-4:]\n",
    "                    \n",
    "                    x1x2x3x4_seq_theta_t_th_mp = math.exp(theta_t_th['1,' + x1x2x3x4_seq])\n",
    "                    x4x5_seq_theta_t_th_mp = math.exp(theta_t_th[x4x5_seq])\n",
    "                    x5x6x7x8_seq_theta_t_th_mp = math.exp(theta_t_th['2,' + x5x6x7x8_seq])                    \n",
    "                                       \n",
    "                    f_full_2['1,' + x1x2x3x4_seq] = x1x2x3x4_seq_theta_t_th_mp\n",
    "                    f_full_2[x4x5_seq] = x4x5_seq_theta_t_th_mp\n",
    "                    f_full_2['1,' + x5x6x7x8_seq] = x5x6x7x8_seq_theta_t_th_mp                    \n",
    "                    \n",
    "                    Z += (x1x2x3x4_seq_theta_t_th_mp * x4x5_seq_theta_t_th_mp * x5x6x7x8_seq_theta_t_th_mp)                    \n",
    "                grad_theta = subtract_dict(f_full_1, scalarmult_dict(1.0/Z, f_full_2))    \n",
    "                mb_grad_theta = add_dict(grad_theta, mb_grad_theta)   \n",
    "                \n",
    "            ## Average over mb_size\n",
    "            mb_grad_theta = scalarmult_dict(1.0/curr_mb_size, mb_grad_theta)\n",
    "            \n",
    "            ## Regularizer\n",
    "            reg = scalarmult_dict(1.0 * lmbda, theta_t_th)\n",
    "            \n",
    "            ## Update theta to (t+1)th\n",
    "            eta = ((1.0 - (iter_count/tau)) * eta) + ((iter_count/tau) * eta * 0.01) if (iter_count < tau) else eta * 0.01\n",
    "            theta_t_th = add_dict(theta_t_th, scalarmult_dict(eta, subtract_dict(mb_grad_theta, reg)))\n",
    "            iter_count += 1\n",
    "            \n",
    "    return theta_t_th  "
   ]
  },
  {
   "cell_type": "markdown",
   "metadata": {},
   "source": [
    "# Shared: No Apriori Preference"
   ]
  },
  {
   "cell_type": "code",
   "execution_count": 160,
   "metadata": {
    "collapsed": false
   },
   "outputs": [
    {
     "data": {
      "text/plain": [
       "{'00': 1.0, '01': 1.0, '10': 1.0, '11': 1.0}"
      ]
     },
     "execution_count": 160,
     "metadata": {},
     "output_type": "execute_result"
    }
   ],
   "source": [
    "### No apriori preference for X4X5\n",
    "theta_45_star = dict(zip(XiXj_sequences, np.ones(len(XiXj_sequences))))\n",
    "theta_45_star"
   ]
  },
  {
   "cell_type": "markdown",
   "metadata": {
    "collapsed": true
   },
   "source": [
    "# Shared: X4X5 favoring X5=0"
   ]
  },
  {
   "cell_type": "code",
   "execution_count": 144,
   "metadata": {
    "collapsed": false
   },
   "outputs": [
    {
     "data": {
      "text/plain": [
       "{'00': 4, '01': 0.0, '10': 4, '11': 0.0}"
      ]
     },
     "execution_count": 144,
     "metadata": {},
     "output_type": "execute_result"
    }
   ],
   "source": [
    "### Favor X5=0\n",
    "theta_45_star = dict(zip(XiXj_sequences, np.zeros(len(XiXj_sequences))))\n",
    "theta_45_star['10'] = 4\n",
    "theta_45_star['00'] = 4\n",
    "theta_45_star"
   ]
  },
  {
   "cell_type": "markdown",
   "metadata": {},
   "source": [
    "# Shared: X4X5 favoring X5=1"
   ]
  },
  {
   "cell_type": "code",
   "execution_count": 151,
   "metadata": {
    "collapsed": false
   },
   "outputs": [
    {
     "data": {
      "text/plain": [
       "{'00': 0.0, '01': 4, '10': 0.0, '11': 4}"
      ]
     },
     "execution_count": 151,
     "metadata": {},
     "output_type": "execute_result"
    }
   ],
   "source": [
    "### Favor X5=1\n",
    "theta_45_star = dict(zip(XiXj_sequences, np.zeros(len(XiXj_sequences))))\n",
    "theta_45_star['01'] = 4\n",
    "theta_45_star['11'] = 4\n",
    "theta_45_star"
   ]
  },
  {
   "cell_type": "code",
   "execution_count": 161,
   "metadata": {
    "collapsed": false,
    "scrolled": true
   },
   "outputs": [
    {
     "name": "stdout",
     "output_type": "stream",
     "text": [
      "Z = 25568.587684169062\n",
      "Prob. of X1X2...X8:\n",
      "P(11111111) = 0.0005806586939007894\n",
      "P(11111110) = 0.0005806586939007894\n",
      "P(11111101) = 0.0005806586939007894\n",
      "P(11111100) = 0.0005806586939007894\n",
      "P(11111011) = 0.0005806586939007894\n",
      "P(11111010) = 0.0005806586939007894\n",
      "P(11111001) = 0.0005806586939007894\n",
      "P(11111000) = 0.0005806586939007894\n",
      "P(11110111) = 0.0005806586939007894\n",
      "P(11110110) = 0.0005806586939007894\n",
      "P(11110101) = 0.0005806586939007894\n",
      "P(11110100) = 0.0005806586939007894\n",
      "P(11110011) = 0.0005806586939007894\n",
      "P(11110010) = 0.0005806586939007894\n",
      "P(11110001) = 0.0005806586939007894\n",
      "P(11110000) = 0.03170289048764488\n",
      "P(11101111) = 0.0011048400110934852\n",
      "P(11101110) = 0.0011048400110934852\n",
      "P(11101101) = 0.0011048400110934852\n",
      "P(11101100) = 0.0011048400110934852\n",
      "P(11101011) = 0.0011048400110934852\n",
      "P(11101010) = 0.0011048400110934852\n",
      "P(11101001) = 0.0011048400110934852\n",
      "P(11101000) = 0.0011048400110934852\n",
      "P(11100111) = 0.0011048400110934852\n",
      "P(11100110) = 0.0011048400110934852\n",
      "P(11100101) = 0.0011048400110934852\n",
      "P(11100100) = 0.0011048400110934852\n",
      "P(11100011) = 0.0011048400110934852\n",
      "P(11100010) = 0.0011048400110934852\n",
      "P(11100001) = 0.0011048400110934852\n",
      "P(11100000) = 0.06032222068830284\n",
      "P(11011111) = 0.0009272518669114188\n",
      "P(11011110) = 0.0009272518669114188\n",
      "P(11011101) = 0.0009272518669114188\n",
      "P(11011100) = 0.0009272518669114188\n",
      "P(11011011) = 0.0009272518669114188\n",
      "P(11011010) = 0.0009272518669114188\n",
      "P(11011001) = 0.0009272518669114188\n",
      "P(11011000) = 0.0009272518669114188\n",
      "P(11010111) = 0.0009272518669114188\n",
      "P(11010110) = 0.0009272518669114188\n",
      "P(11010101) = 0.0009272518669114188\n",
      "P(11010100) = 0.0009272518669114188\n",
      "P(11010011) = 0.0009272518669114188\n",
      "P(11010010) = 0.0009272518669114188\n",
      "P(11010001) = 0.0009272518669114188\n",
      "P(11010000) = 0.05062623654814273\n",
      "P(11001111) = 0.0012803136916265537\n",
      "P(11001110) = 0.0012803136916265537\n",
      "P(11001101) = 0.0012803136916265537\n",
      "P(11001100) = 0.0012803136916265537\n",
      "P(11001011) = 0.0012803136916265537\n",
      "P(11001010) = 0.0012803136916265537\n",
      "P(11001001) = 0.0012803136916265537\n",
      "P(11001000) = 0.0012803136916265537\n",
      "P(11000111) = 0.0012803136916265537\n",
      "P(11000110) = 0.0012803136916265537\n",
      "P(11000101) = 0.0012803136916265537\n",
      "P(11000100) = 0.0012803136916265537\n",
      "P(11000011) = 0.0012803136916265537\n",
      "P(11000010) = 0.0012803136916265537\n",
      "P(11000001) = 0.0012803136916265537\n",
      "P(11000000) = 0.06990275902491534\n",
      "P(10111111) = 0.00041508627267468383\n",
      "P(10111110) = 0.00041508627267468383\n",
      "P(10111101) = 0.00041508627267468383\n",
      "P(10111100) = 0.00041508627267468383\n",
      "P(10111011) = 0.00041508627267468383\n",
      "P(10111010) = 0.00041508627267468383\n",
      "P(10111001) = 0.00041508627267468383\n",
      "P(10111000) = 0.00041508627267468383\n",
      "P(10110111) = 0.00041508627267468383\n",
      "P(10110110) = 0.00041508627267468383\n",
      "P(10110101) = 0.00041508627267468383\n",
      "P(10110100) = 0.00041508627267468383\n",
      "P(10110011) = 0.00041508627267468383\n",
      "P(10110010) = 0.00041508627267468383\n",
      "P(10110001) = 0.00041508627267468383\n",
      "P(10110000) = 0.022662942592191006\n",
      "P(10101111) = 0.0008405033927067941\n",
      "P(10101110) = 0.0008405033927067941\n",
      "P(10101101) = 0.0008405033927067941\n",
      "P(10101100) = 0.0008405033927067941\n",
      "P(10101011) = 0.0008405033927067941\n",
      "P(10101010) = 0.0008405033927067941\n",
      "P(10101001) = 0.0008405033927067941\n",
      "P(10101000) = 0.0008405033927067941\n",
      "P(10100111) = 0.0008405033927067941\n",
      "P(10100110) = 0.0008405033927067941\n",
      "P(10100101) = 0.0008405033927067941\n",
      "P(10100100) = 0.0008405033927067941\n",
      "P(10100011) = 0.0008405033927067941\n",
      "P(10100010) = 0.0008405033927067941\n",
      "P(10100001) = 0.0008405033927067941\n",
      "P(10100000) = 0.04588993033837229\n",
      "P(10011111) = 0.0005140011397420045\n",
      "P(10011110) = 0.0005140011397420045\n",
      "P(10011101) = 0.0005140011397420045\n",
      "P(10011100) = 0.0005140011397420045\n",
      "P(10011011) = 0.0005140011397420045\n",
      "P(10011010) = 0.0005140011397420045\n",
      "P(10011001) = 0.0005140011397420045\n",
      "P(10011000) = 0.0005140011397420045\n",
      "P(10010111) = 0.0005140011397420045\n",
      "P(10010110) = 0.0005140011397420045\n",
      "P(10010101) = 0.0005140011397420045\n",
      "P(10010100) = 0.0005140011397420045\n",
      "P(10010011) = 0.0005140011397420045\n",
      "P(10010010) = 0.0005140011397420045\n",
      "P(10010001) = 0.0005140011397420045\n",
      "P(10010000) = 0.028063511344841092\n",
      "P(10001111) = 0.0002916022952266636\n",
      "P(10001110) = 0.0002916022952266636\n",
      "P(10001101) = 0.0002916022952266636\n",
      "P(10001100) = 0.0002916022952266636\n",
      "P(10001011) = 0.0002916022952266636\n",
      "P(10001010) = 0.0002916022952266636\n",
      "P(10001001) = 0.0002916022952266636\n",
      "P(10001000) = 0.0002916022952266636\n",
      "P(10000111) = 0.0002916022952266636\n",
      "P(10000110) = 0.0002916022952266636\n",
      "P(10000101) = 0.0002916022952266636\n",
      "P(10000100) = 0.0002916022952266636\n",
      "P(10000011) = 0.0002916022952266636\n",
      "P(10000010) = 0.0002916022952266636\n",
      "P(10000001) = 0.0002916022952266636\n",
      "P(10000000) = 0.0159209458647946\n",
      "P(01111111) = 0.0010539166268418916\n",
      "P(01111110) = 0.0010539166268418916\n",
      "P(01111101) = 0.0010539166268418916\n",
      "P(01111100) = 0.0010539166268418916\n",
      "P(01111011) = 0.0010539166268418916\n",
      "P(01111010) = 0.0010539166268418916\n",
      "P(01111001) = 0.0010539166268418916\n",
      "P(01111000) = 0.0010539166268418916\n",
      "P(01110111) = 0.0010539166268418916\n",
      "P(01110110) = 0.0010539166268418916\n",
      "P(01110101) = 0.0010539166268418916\n",
      "P(01110100) = 0.0010539166268418916\n",
      "P(01110011) = 0.0010539166268418916\n",
      "P(01110010) = 0.0010539166268418916\n",
      "P(01110001) = 0.0010539166268418916\n",
      "P(01110000) = 0.057541898114738886\n",
      "P(01101111) = 0.0018580963573891548\n",
      "P(01101110) = 0.0018580963573891548\n",
      "P(01101101) = 0.0018580963573891548\n",
      "P(01101100) = 0.0018580963573891548\n",
      "P(01101011) = 0.0018580963573891548\n",
      "P(01101010) = 0.0018580963573891548\n",
      "P(01101001) = 0.0018580963573891548\n",
      "P(01101000) = 0.0018580963573891548\n",
      "P(01100111) = 0.0018580963573891548\n",
      "P(01100110) = 0.0018580963573891548\n",
      "P(01100101) = 0.0018580963573891548\n",
      "P(01100100) = 0.0018580963573891548\n",
      "P(01100011) = 0.0018580963573891548\n",
      "P(01100010) = 0.0018580963573891548\n",
      "P(01100001) = 0.0018580963573891548\n",
      "P(01100000) = 0.10144862369677188\n",
      "P(01011111) = 0.0010790372350384238\n",
      "P(01011110) = 0.0010790372350384238\n",
      "P(01011101) = 0.0010790372350384238\n",
      "P(01011100) = 0.0010790372350384238\n",
      "P(01011011) = 0.0010790372350384238\n",
      "P(01011010) = 0.0010790372350384238\n",
      "P(01011001) = 0.0010790372350384238\n",
      "P(01011000) = 0.0010790372350384238\n",
      "P(01010111) = 0.0010790372350384238\n",
      "P(01010110) = 0.0010790372350384238\n",
      "P(01010101) = 0.0010790372350384238\n",
      "P(01010100) = 0.0010790372350384238\n",
      "P(01010011) = 0.0010790372350384238\n",
      "P(01010010) = 0.0010790372350384238\n",
      "P(01010001) = 0.0010790372350384238\n",
      "P(01010000) = 0.058913436849976984\n",
      "P(01001111) = 0.0005231783531347044\n",
      "P(01001110) = 0.0005231783531347044\n",
      "P(01001101) = 0.0005231783531347044\n",
      "P(01001100) = 0.0005231783531347044\n",
      "P(01001011) = 0.0005231783531347044\n",
      "P(01001010) = 0.0005231783531347044\n",
      "P(01001001) = 0.0005231783531347044\n",
      "P(01001000) = 0.0005231783531347044\n",
      "P(01000111) = 0.0005231783531347044\n",
      "P(01000110) = 0.0005231783531347044\n",
      "P(01000101) = 0.0005231783531347044\n",
      "P(01000100) = 0.0005231783531347044\n",
      "P(01000011) = 0.0005231783531347044\n",
      "P(01000010) = 0.0005231783531347044\n",
      "P(01000001) = 0.0005231783531347044\n",
      "P(01000000) = 0.02856457021854191\n",
      "P(00111111) = 0.0002999566270162749\n",
      "P(00111110) = 0.0002999566270162749\n",
      "P(00111101) = 0.0002999566270162749\n",
      "P(00111100) = 0.0002999566270162749\n",
      "P(00111011) = 0.0002999566270162749\n",
      "P(00111010) = 0.0002999566270162749\n",
      "P(00111001) = 0.0002999566270162749\n",
      "P(00111000) = 0.0002999566270162749\n",
      "P(00110111) = 0.0002999566270162749\n",
      "P(00110110) = 0.0002999566270162749\n",
      "P(00110101) = 0.0002999566270162749\n",
      "P(00110100) = 0.0002999566270162749\n",
      "P(00110011) = 0.0002999566270162749\n",
      "P(00110010) = 0.0002999566270162749\n",
      "P(00110001) = 0.0002999566270162749\n",
      "P(00110000) = 0.016377076925270462\n",
      "P(00101111) = 0.0005605356449624752\n",
      "P(00101110) = 0.0005605356449624752\n",
      "P(00101101) = 0.0005605356449624752\n",
      "P(00101100) = 0.0005605356449624752\n",
      "P(00101011) = 0.0005605356449624752\n",
      "P(00101010) = 0.0005605356449624752\n",
      "P(00101001) = 0.0005605356449624752\n",
      "P(00101000) = 0.0005605356449624752\n",
      "P(00100111) = 0.0005605356449624752\n",
      "P(00100110) = 0.0005605356449624752\n",
      "P(00100101) = 0.0005605356449624752\n",
      "P(00100100) = 0.0005605356449624752\n",
      "P(00100011) = 0.0005605356449624752\n",
      "P(00100010) = 0.0005605356449624752\n",
      "P(00100001) = 0.0005605356449624752\n",
      "P(00100000) = 0.03060420924258649\n",
      "P(00011111) = 0.0012716544429987073\n",
      "P(00011110) = 0.0012716544429987073\n",
      "P(00011101) = 0.0012716544429987073\n",
      "P(00011100) = 0.0012716544429987073\n",
      "P(00011011) = 0.0012716544429987073\n",
      "P(00011010) = 0.0012716544429987073\n",
      "P(00011001) = 0.0012716544429987073\n",
      "P(00011000) = 0.0012716544429987073\n",
      "P(00010111) = 0.0012716544429987073\n",
      "P(00010110) = 0.0012716544429987073\n",
      "P(00010101) = 0.0012716544429987073\n",
      "P(00010100) = 0.0012716544429987073\n",
      "P(00010011) = 0.0012716544429987073\n",
      "P(00010010) = 0.0012716544429987073\n",
      "P(00010001) = 0.0012716544429987073\n",
      "P(00010000) = 0.06942998006915789\n",
      "P(00001111) = 0.0017675653471565715\n",
      "P(00001110) = 0.0017675653471565715\n",
      "P(00001101) = 0.0017675653471565715\n",
      "P(00001100) = 0.0017675653471565715\n",
      "P(00001011) = 0.0017675653471565715\n",
      "P(00001010) = 0.0017675653471565715\n",
      "P(00001001) = 0.0017675653471565715\n",
      "P(00001000) = 0.0017675653471565715\n",
      "P(00000111) = 0.0017675653471565715\n",
      "P(00000110) = 0.0017675653471565715\n",
      "P(00000101) = 0.0017675653471565715\n",
      "P(00000100) = 0.0017675653471565715\n",
      "P(00000011) = 0.0017675653471565715\n",
      "P(00000010) = 0.0017675653471565715\n",
      "P(00000001) = 0.0017675653471565715\n",
      "P(00000000) = 0.09650579801744116\n",
      "Check sum of probabilities = 1.0000000000000022\n"
     ]
    }
   ],
   "source": [
    "## Generate the probability vector over X1toX8_sequences\n",
    "## Partition function Z:\n",
    "Z = 0\n",
    "prob_x1tox8 = dict(zip(X1toX8_sequences, np.ones(len(X1toX8_sequences))))\n",
    "for s in X1toX8_sequences:\n",
    "    x1x2x3x4 = s[:4]\n",
    "    x4x5 = s[3:5]\n",
    "    x5x6x7x8 = s[-4:]\n",
    "    theta_x1x2x3x4 = theta_1_star[x1x2x3x4]\n",
    "    theta_x4x5 = theta_45_star[x4x5]\n",
    "    theta_x5x6x7x8 = theta_2_star[x5x6x7x8]\n",
    "    s_score = math.exp(theta_x1x2x3x4) * math.exp(theta_x4x5) * math.exp(theta_x5x6x7x8)\n",
    "    prob_x1tox8[s] = s_score    \n",
    "    Z += s_score\n",
    "print('Z = %s' % Z)\n",
    "prob_x1tox8 = {k: (lambda x: x/Z)(v) for k, v in prob_x1tox8.items()}\n",
    "print('Prob. of X1X2...X8:')\n",
    "prob_sum = 0\n",
    "for k, v in prob_x1tox8.items():\n",
    "    prob_sum += v\n",
    "    print('P(%s) = %s' % (k, v))\n",
    "print('Check sum of probabilities = %s' % prob_sum)"
   ]
  },
  {
   "cell_type": "code",
   "execution_count": 162,
   "metadata": {
    "collapsed": false
   },
   "outputs": [
    {
     "name": "stdout",
     "output_type": "stream",
     "text": [
      "['01111101', '01000000', '11111111', '10101101', '11010000', '11100000', '11001100', '10100000', '10000110', '01100000', '01111011', '01010000', '11000000', '00001111', '11110000', '01010000', '01111101', '01100000', '11010000', '11000011', '00010110', '00000000', '10100000', '01001111', '00010000', '00000110', '11100000', '11110000', '11010000', '00001111', '11100000', '01111001', '00000000', '01100000', '01010000', '10100000', '01010000', '00010000', '11110000', '00101110', '00000000', '00110000', '10110000', '00011111', '11100000', '01110000', '00000000', '10110000', '10110000', '11010010']\n"
     ]
    }
   ],
   "source": [
    "## Generate n samples\n",
    "np.random.seed(1)\n",
    "D_size = 100000\n",
    "D = []\n",
    "for i in range(D_size):\n",
    "    rnd_seq = np.random.choice(list(prob_x1tox8.keys()), p=list(prob_x1tox8.values()))\n",
    "    D.append(rnd_seq)\n",
    "print(D[:50])"
   ]
  },
  {
   "cell_type": "code",
   "execution_count": null,
   "metadata": {
    "collapsed": true
   },
   "outputs": [],
   "source": [
    "theta_full = {}\n",
    "for k,v in theta_1_star.items():\n",
    "    theta_full['1,' + k] = v\n",
    "for k,v in theta_2_star.items():\n",
    "    theta_full['2,' + k] = v\n",
    "for k,v in theta_45_star.items():\n",
    "    theta_full[k] = v\n",
    "    \n",
    "theta_full"
   ]
  },
  {
   "cell_type": "code",
   "execution_count": null,
   "metadata": {
    "collapsed": true
   },
   "outputs": [],
   "source": [
    "#### MLE\n",
    "random.seed(1)\n",
    "n = 50000\n",
    "mb_size = 20\n",
    "eta = 0.3\n",
    "tau = 1000\n",
    "epochs = 2\n",
    "lmbda = 0.7\n",
    "\n",
    "theta_full = {}\n",
    "for k,v in theta_1_star.items():\n",
    "    theta_full['1,' + k] = v\n",
    "for k,v in theta_2_star.items():\n",
    "    theta_full['2,' + k] = v\n",
    "for k,v in theta_45_star.items():\n",
    "    theta_full[k] = v\n",
    "    \n",
    "mle_samples = np.random.choice(D, n)\n",
    "\n",
    "mle_theta_t_th = mle_mb_grad_ascent(theta_full, mle_samples, eta, tau, mb_size, lmbda, epochs, X1toX8_sequences)\n",
    "mle_theta_err = l1norm_dict(subtract_dict(mle_theta_t_th, theta_full))\n",
    "print(mle_theta_t_th)\n",
    "print(mle_theta_err)"
   ]
  },
  {
   "cell_type": "code",
   "execution_count": 154,
   "metadata": {
    "collapsed": false
   },
   "outputs": [
    {
     "name": "stdout",
     "output_type": "stream",
     "text": [
      "Phase 1: Theta A1: {'1111': 2.4083008724503796, '1110': 4.6316573814189699, '1101': 4.438840442302709, '1100': 4.4414113446212093, '1011': 1.2213630182064745, '1010': 3.5060098141017475, '1001': 1.226033380447602, '1000': 0.43635793771779779, '0111': 5.8160654899067712, '0110': 7.708497559954866, '0101': 4.0310984935940288, '0100': 2.3788765907411986, '0011': 0.22066394070575943, '0010': 1.4483329235877742, '0001': 4.2164059526650304, '0000': 5.1479642441165963, '11': 12.042476587682854, '10': 3.3169831824752993, '01': 12.518058090461784, '00': 3.8339501892944985}\n",
      "Phase 1: Theta A2: {'1111': 4.1696599799967542, '1110': 3.7230584401786109, '1101': 3.5769657696011987, '1100': 3.6609653284938228, '1011': 3.8405776439156147, '1010': 4.1468362449537688, '1001': 3.1466775513087231, '1000': 3.2428377368661643, '0111': -0.21161984708852274, '0110': -0.41779989271275342, '0101': 0.026990536725547229, '0100': -0.41779989271275342, '0011': -0.41779989271275342, '0010': 0.21187352303920723, '0001': -0.19213183580903473, '0000': 3.622176655870835}\n",
      "Phase 1: Vector samples: 250\n",
      "Phase 1: Total Scalar samples: 2000\n"
     ]
    }
   ],
   "source": [
    "################## Active ##################\n",
    "### Phase 1\n",
    "random.seed(1)\n",
    "gamma_1 = 0.005\n",
    "n = 50000\n",
    "p = 8\n",
    "phase1_samples = np.random.choice(D, int(gamma_1 * n))\n",
    "\n",
    "## Initialize theta to zero (corr. to all micropotential = 1)\n",
    "theta_A1_t_th = dict(zip(list(theta_1_star.keys()), np.zeros(len(theta_1_star))))\n",
    "for k,v in theta_45_star.items():\n",
    "    theta_A1_t_th[k] = 0.0\n",
    "theta_A2_t_th = dict(zip(list(theta_2_star.keys()), np.zeros(len(theta_2_star))))\n",
    "\n",
    "## Minibatch Gradient ascent - Start with a more aggresive eta and lmbda\n",
    "mb_size = 20\n",
    "eta = 1\n",
    "A_1 = ['0123', '34']\n",
    "A_2 = ['4567']\n",
    "J = 2\n",
    "lmbda = 0.01\n",
    "tau = 1000\n",
    "it_count = 0\n",
    "epochs = 5\n",
    "phase1_theta_A1_t_th, phase1_A1_SS = comp_mb_grad_ascent(theta_A1_t_th, phase1_samples, eta, tau, it_count, mb_size, A_1, J, lmbda, epochs)\n",
    "phase1_theta_A2_t_th, phase1_A2_SS = comp_mb_grad_ascent(theta_A2_t_th, phase1_samples, eta, tau, it_count, mb_size, A_2, J, lmbda, epochs)\n",
    "print('Phase 1: Theta A1: %s' % phase1_theta_A1_t_th)\n",
    "print('Phase 1: Theta A2: %s' % phase1_theta_A2_t_th)\n",
    "phase1_VS = len(phase1_samples)\n",
    "phase1_SS = phase1_VS * p\n",
    "print('Phase 1: Vector samples: %s' % phase1_VS)\n",
    "print('Phase 1: Total Scalar samples: %s' % phase1_SS)"
   ]
  },
  {
   "cell_type": "code",
   "execution_count": 155,
   "metadata": {
    "collapsed": false
   },
   "outputs": [
    {
     "name": "stdout",
     "output_type": "stream",
     "text": [
      ">Simul 1 of 3, A1 err: 16.4638991244, A2 err: 14.4770453168\n",
      ">Simul 2 of 3, A1 err: 16.9887661863, A2 err: 13.7126440069\n",
      ">Simul 3 of 3, A1 err: 16.9442537925, A2 err: 13.0101820707\n",
      "-------SAMPLE RESULT----------\n",
      "Phase 2: Theta A1: {'1111': 0.79383516887668193, '1110': 1.6658648473534832, '1101': 1.2570692893412836, '1100': 1.6137541958502515, '1011': 0.46298356351903946, '1010': 0.97138167671212661, '1001': 0.58139778503040795, '1000': 0.29323168703246394, '0111': 1.2376364143461356, '0110': 2.1111079492279208, '0101': 1.4523132075922338, '0100': 0.59552424420862193, '0011': 0.32682851484786901, '0010': 0.65674187997112243, '0001': 1.6778841659017578, '0000': 2.1342820580921278, '11': 4.2298977369390238, '10': 0.95312720639216408, '01': 4.6698542719005518, '00': 1.1573680695065391}\n",
      "Phase 2: Theta A2: {'1111': 1.2187383249850376, '1110': 0.86311769484838818, '1101': 1.1254422976188636, '1100': 1.0900349633697588, '1011': 1.0753330373724637, '1010': 1.1668293365982076, '1001': 1.1474797894912696, '1000': 1.0404094337554706, '0111': -0.20544306787453512, '0110': -0.2415421772288098, '0101': -0.20013163402512091, '0100': -0.26363458767741194, '0011': -0.24537045957573961, '0010': -0.1878097597556565, '0001': -0.20166439752397416, '0000': 1.2627988910168662}\n",
      "Phase 2: Scalar samples for A1: 396010.0\n",
      "Phase 2: Scalar samples for A2: 1992.0\n"
     ]
    }
   ],
   "source": [
    "### Phase 2\n",
    "# let's say we have an oracle that tells us that A_2 is EASIER to learn, accordingly we set the corr. gamma_2 to be small\n",
    "# This gives (1 - gamma_2)np SS to the HARDER to learn A_1, and (gamma_2)np SS for A_2\n",
    "\n",
    "## Form theta_Aj_star vector with X1X2X3X4 and X4X5 parameters\n",
    "theta_A1_star = theta_1_star\n",
    "for k,v in theta_45_star.items():\n",
    "    theta_A1_star[k] = v\n",
    "theta_A2_star = theta_2_star\n",
    "\n",
    "## Initialize theta to zero (corr. to all micropotential = 1)\n",
    "## Initialize theta to zero (corr. to all micropotential = 1)\n",
    "theta_A1_t_th = dict(zip(list(theta_1_star.keys()), np.zeros(len(theta_1_star))))\n",
    "for k,v in theta_45_star.items():\n",
    "    theta_A1_t_th[k] = 0.0\n",
    "theta_A2_t_th = dict(zip(list(theta_2_star.keys()), np.zeros(len(theta_2_star))))\n",
    "\n",
    "# Hyper-parameters\n",
    "n = 50000\n",
    "p = 8\n",
    "p_1 = 5\n",
    "p_2 = 4\n",
    "mb_size = 20\n",
    "eta_1 = 0.35\n",
    "eta_2 = 0.24\n",
    "lmbda = 0.003\n",
    "lmbda_A_1 = 0.09\n",
    "lmbda_A_2 = 0.1\n",
    "#A_1 = [0,1,2,3]\n",
    "#A_2 = [4,5,6,7]\n",
    "A_1 = ['0123', '34']\n",
    "A_2 = ['4567']\n",
    "it_count = 0\n",
    "J = 2\n",
    "epochs = 5\n",
    "n_simul = 3\n",
    "active_A1_l1err_vec = []\n",
    "active_A2_l1err_vec = []\n",
    "for simul in range(1, n_simul + 1):\n",
    "    re_phase1_theta_A1_t_th, re_phase1_A1_SS = comp_mb_grad_ascent(theta_A1_t_th, phase1_samples, eta_1, tau, it_count, mb_size, A_1, J, lmbda, epochs)\n",
    "    re_phase1_theta_A2_t_th, re_phase1_A2_SS = comp_mb_grad_ascent(theta_A2_t_th, phase1_samples, eta_2, tau, it_count, mb_size, A_2, J, lmbda, epochs)\n",
    "\n",
    "    ## Start Phase 2 \n",
    "    gamma_2 = 0.005\n",
    "    phase2_total_SS_budget = ((1 - gamma_1) * n) * p\n",
    "    phase2_samples_A_1 = np.random.choice(D, int(round((1 - gamma_2) * phase2_total_SS_budget / p_1 )))\n",
    "    phase2_samples_A_2 = np.random.choice(D, int(round(gamma_2 * phase2_total_SS_budget / p_2)))\n",
    "\n",
    "    it_count = (gamma_1 * n) / mb_size\n",
    "    tau_1 = 5000\n",
    "    tau_2 = 1000\n",
    "\n",
    "    phase2_theta_A1_t_th, phase2_A1_SS = comp_mb_grad_ascent(re_phase1_theta_A1_t_th, phase2_samples_A_1, eta_1, tau_1, it_count, mb_size, A_1, J, lmbda_A_1, epochs)\n",
    "    phase2_theta_A2_t_th, phase2_A2_SS = comp_mb_grad_ascent(re_phase1_theta_A2_t_th, phase2_samples_A_2, eta_2, tau_2, it_count, mb_size, A_2, J, lmbda_A_2, epochs)\n",
    "    active_theta_A1_err = l1norm_dict(subtract_dict(phase2_theta_A1_t_th, theta_A1_star))\n",
    "    active_theta_A2_err = l1norm_dict(subtract_dict(phase2_theta_A2_t_th, theta_A2_star))\n",
    "    active_A1_l1err_vec.append(active_theta_A1_err)\n",
    "    active_A2_l1err_vec.append(active_theta_A2_err)\n",
    "    print('>Simul %s of %s, A1 err: %s, A2 err: %s' % (simul, n_simul, active_theta_A1_err, active_theta_A2_err))    \n",
    "    \n",
    "av_active_A1_err = np.average(active_A1_l1err_vec)\n",
    "av_active_A2_err = np.average(active_A2_l1err_vec)\n",
    "print('-------SAMPLE RESULT----------')\n",
    "print('Phase 2: Theta A1: %s' % phase2_theta_A1_t_th)\n",
    "print('Phase 2: Theta A2: %s' % phase2_theta_A2_t_th)\n",
    "print('Phase 2: Scalar samples for A1: %s' % phase2_A1_SS)\n",
    "print('Phase 2: Scalar samples for A2: %s' % phase2_A2_SS)"
   ]
  },
  {
   "cell_type": "code",
   "execution_count": 50,
   "metadata": {
    "collapsed": true
   },
   "outputs": [],
   "source": [
    "A1_sequences = X1toX4_sequences\n",
    "A1_sequences.extend(XiXj_sequences)"
   ]
  },
  {
   "cell_type": "code",
   "execution_count": 97,
   "metadata": {
    "collapsed": false
   },
   "outputs": [
    {
     "data": {
      "image/png": "[encoded data removed]",
      "text/plain": [
       "<matplotlib.figure.Figure at 0x246d3f63198>"
      ]
     },
     "metadata": {},
     "output_type": "display_data"
    }
   ],
   "source": [
    "fig_theta_active, (ax1, ax2) = plt.subplots(2, sharex=False, figsize=(10,6))\n",
    "\n",
    "ax1.bar(list(range(20)), list(phase2_theta_A1_t_th.values()),width=0.15)\n",
    "ax2.bar(list(range(16)), list(phase2_theta_A2_t_th.values()),width=0.15)\n",
    "\n",
    "ax1.set_xticks(list(range(20)))\n",
    "ax1.set_xticklabels(A1_sequences)\n",
    "\n",
    "ax1.set_yticks(range(1,5,1))\n",
    "ax1.set_ylabel(r'$\\hat{\\theta}_{A_1}$ weights')\n",
    "\n",
    "ax2.set_xticks(list(range(16)))\n",
    "ax2.set_xticklabels(X1toX4_sequences)\n",
    "\n",
    "ax2.set_yticks(range(0,12,1))\n",
    "ax2.axhline()\n",
    "ax2.set_ylabel(r'$\\hat{\\theta}_{A_2}$ weights')\n",
    "ax2.set_xlabel('Sequences')\n",
    "\n",
    "plt.subplots_adjust(hspace = .5)\n",
    "ax1.set_title(r'Active Learning of $\\theta_{A_1}, \\theta_{A_2}$ weights')\n",
    "\n",
    "plt.savefig(\"theta_active_fig_mcle_2.png\", dpi=300, bbox_inches='tight')\n",
    "plt.show()"
   ]
  },
  {
   "cell_type": "code",
   "execution_count": 156,
   "metadata": {
    "collapsed": false
   },
   "outputs": [
    {
     "name": "stdout",
     "output_type": "stream",
     "text": [
      ">Simul 1 of 1, A1 err: 26.0864112948, A2 err: 12.7474454567\n",
      "-------SAMPLE RESULT----------\n",
      "Passive: Theta A1: {'1111': 0.32612072378745083, '1110': 0.80128217302916072, '1101': 0.64199033461456623, '1100': 0.83065275475792677, '1011': 0.11345378877281774, '1010': 0.32886202931323127, '1001': 0.091873284566253849, '1000': 0.097145883724291671, '0111': 0.60160961466758012, '0110': 1.2409799053556871, '0101': 0.69389557045755679, '0100': 0.17773888075489472, '0011': 0.067757870015769092, '0010': 0.18003005719235946, '0001': 0.99293250232366759, '0000': 0.89069363900281051, '11': 3.0600314675452687, '10': 0.41301668533467667, '01': 3.5082993608144855, '00': 0.55290129450273984}\n",
      "Passive: Theta A2: {'1111': 0.88113187383412328, '1110': 1.0595004421699896, '1101': 0.84868251793341953, '1100': 1.132774207639657, '1011': 1.0255678816122458, '1010': 1.0503530710930156, '1001': 1.1052180962963409, '1000': 1.0376190418600204, '0111': -0.23199214518348618, '0110': -0.2230018660076282, '0101': -0.23375299059026042, '0100': -0.2291970015867891, '0011': -0.21245757918005148, '0010': -0.24743042697069076, '0001': -0.19871228628352114, '0000': 0.96994597156078333}\n",
      "Passive Vector Samples: 50000\n",
      "Passive Vector Samples: 400000\n"
     ]
    }
   ],
   "source": [
    "################## Passive ##################\n",
    "\n",
    "## Initialize theta to zero (corr. to all micropotential = 1)\n",
    "theta_A1_t_th = dict(zip(list(theta_1_star.keys()), np.zeros(len(theta_1_star))))\n",
    "for k,v in theta_45_star.items():\n",
    "    theta_A1_t_th[k] = 0.0\n",
    "theta_A2_t_th = dict(zip(list(theta_2_star.keys()), np.zeros(len(theta_2_star))))\n",
    "\n",
    "## Form theta_Aj_star vector with X1X2X3X4 and X4X5 parameters\n",
    "theta_A1_star = theta_1_star\n",
    "for k,v in theta_45_star.items():\n",
    "    theta_A1_star[k] = v\n",
    "theta_A2_star = theta_2_star\n",
    "\n",
    "## Minibatch Gradient ascent\n",
    "n = 50000\n",
    "mb_size = 20\n",
    "eta = 0.35\n",
    "A_1 = ['0123', '34']\n",
    "A_2 = ['4567']\n",
    "J = 2\n",
    "lmbda = 0.1\n",
    "tau = 1000\n",
    "it_count = 0\n",
    "epochs = 5\n",
    "n_simul = 1\n",
    "A1_l1err_vec = []\n",
    "A2_l1err_vec = []\n",
    "for simul in range(1, n_simul + 1):\n",
    "    passive_samples = np.random.choice(D, n)\n",
    "    passive_theta_A1_t_th, passive_A1_SS = comp_mb_grad_ascent(theta_A1_t_th, passive_samples, eta, tau, it_count, mb_size, A_1, J, lmbda, epochs)\n",
    "    passive_theta_A2_t_th, passive_A2_SS = comp_mb_grad_ascent(theta_A2_t_th, passive_samples, eta, tau, it_count, mb_size, A_2, J, lmbda, epochs)\n",
    "    passive_theta_A1_err = l1norm_dict(subtract_dict(passive_theta_A1_t_th, theta_A1_star))\n",
    "    passive_theta_A2_err = l1norm_dict(subtract_dict(passive_theta_A2_t_th, theta_A2_star))\n",
    "    A1_l1err_vec.append(passive_theta_A1_err)\n",
    "    A2_l1err_vec.append(passive_theta_A2_err)\n",
    "    print('>Simul %s of %s, A1 err: %s, A2 err: %s' % (simul, n_simul, passive_theta_A1_err, passive_theta_A2_err))\n",
    "\n",
    "av_passive_A1_err = np.average(A1_l1err_vec)\n",
    "av_passive_A2_err = np.average(A2_l1err_vec)\n",
    "print('-------SAMPLE RESULT----------')\n",
    "print('Passive: Theta A1: %s' % passive_theta_A1_t_th)\n",
    "print('Passive: Theta A2: %s' % passive_theta_A2_t_th)\n",
    "passive_VS = n\n",
    "passive_SS = n * p\n",
    "print('Passive Vector Samples: %s' % passive_VS)\n",
    "print('Passive Vector Samples: %s' % passive_SS)\n",
    "#print('Passive Scalar samples for A1: %s' % passive_A1_SS)\n",
    "#print('Passive: Scalar samples for A2: %s' % passive_A2_SS)"
   ]
  },
  {
   "cell_type": "code",
   "execution_count": 60,
   "metadata": {
    "collapsed": false
   },
   "outputs": [
    {
     "data": {
      "image/png": "[encoded data removed]",
      "text/plain": [
       "<matplotlib.figure.Figure at 0x246d3f5c908>"
      ]
     },
     "metadata": {},
     "output_type": "display_data"
    }
   ],
   "source": [
    "fig_theta_passive, (ax1, ax2) = plt.subplots(2, sharex=False, figsize=(10,6))\n",
    "\n",
    "ax1.bar(list(range(20)), list(phase2_theta_A1_t_th.values()),width=0.15)\n",
    "ax2.bar(list(range(16)), list(phase2_theta_A2_t_th.values()),width=0.15)\n",
    "\n",
    "ax1.set_xticks(list(range(20)))\n",
    "ax1.set_xticklabels(A1_sequences)\n",
    "ax1.set_yticks(range(1,14,1))\n",
    "ax1.set_ylabel(r'$\\hat{\\theta}_{A_1}$ weights')\n",
    "\n",
    "ax2.set_xticks(list(range(16)))\n",
    "ax2.set_xticklabels(X1toX4_sequences)\n",
    "\n",
    "\n",
    "ax2.set_yticks(range(0,12,1))\n",
    "ax2.axhline()\n",
    "ax2.set_ylabel(r'$\\hat{\\theta}_{A_2}$ weights')\n",
    "ax2.set_xlabel('Sequences')\n",
    "\n",
    "plt.subplots_adjust(hspace = .5)\n",
    "ax1.set_title(r'Passive Learning of $\\theta_{A_1}, \\theta_{A_2}$ weights')\n",
    "\n",
    "plt.savefig(\"theta_passive_fig_mcle_2.png\", dpi=300, bbox_inches='tight')\n",
    "plt.show()"
   ]
  },
  {
   "cell_type": "code",
   "execution_count": 157,
   "metadata": {
    "collapsed": false
   },
   "outputs": [
    {
     "name": "stdout",
     "output_type": "stream",
     "text": [
      "ACTIVE CASE:\n",
      "============================\n",
      "Av. Theta A1 L1 error: 16.7989730344, using 397260.0 scalar samples\n",
      "Av. Theta A2 L1 error: 13.7332904648, using 2992.0 scalar samples\n",
      "Av. Overall L1 error: 30.5322634992, using 400002.0 scalar samples\n",
      "\n",
      "\n",
      "PASSIVE CASE:\n",
      "============================\n",
      "Av. Theta A1 L1 error: 26.0864112948, using 250000.0 scalar samples\n",
      "Av. Theta A2 L1 error: 12.7474454567, using 200000.0 scalar samples\n",
      "Av. Overall L1 error: 38.8338567515, using 400000 scalar samples\n",
      "\n",
      "\n",
      "SUMMARY:\n",
      "============================\n",
      "L1 error improvement over passive: 8.30159325228, 21.377% improvement\n"
     ]
    }
   ],
   "source": [
    "av_active_theta_tot_err = av_active_A1_err + av_active_A2_err\n",
    "#active_theta_A1_ss = re_phase1_A1_SS + phase2_A1_SS\n",
    "#active_theta_A2_ss = re_phase1_A2_SS + phase2_A2_SS\n",
    "#active_total_ss = active_theta_A1_ss + active_theta_A2_ss\n",
    "active_total_ss = phase1_SS + phase2_A1_SS + phase2_A2_SS\n",
    "phase1_SS\n",
    "\n",
    "av_passive_theta_tot_err = av_passive_A1_err + av_passive_A2_err\n",
    "passive_total_ss = passive_SS\n",
    "\n",
    "pct_improvement = ((av_passive_theta_tot_err - av_active_theta_tot_err) / av_passive_theta_tot_err) * 100\n",
    "\n",
    "print('ACTIVE CASE:\\n============================')\n",
    "print('Av. Theta A1 L1 error: %s, using %s scalar samples' % (av_active_A1_err, active_theta_A1_ss))\n",
    "print('Av. Theta A2 L1 error: %s, using %s scalar samples' % (av_active_A2_err, active_theta_A2_ss))\n",
    "print('Av. Overall L1 error: %s, using %s scalar samples' % (av_active_theta_tot_err, active_total_ss))\n",
    "print('\\n')\n",
    "print('PASSIVE CASE:\\n============================')\n",
    "print('Av. Theta A1 L1 error: %s, using %s scalar samples' % (av_passive_A1_err, passive_A1_SS))\n",
    "print('Av. Theta A2 L1 error: %s, using %s scalar samples' % (av_passive_A2_err, passive_A2_SS))\n",
    "print('Av. Overall L1 error: %s, using %s scalar samples' % (av_passive_theta_tot_err, passive_total_ss))\n",
    "print('\\n')\n",
    "print('SUMMARY:\\n============================')\n",
    "print('L1 error improvement over passive: %s, %.3f%% improvement' % (av_passive_theta_tot_err - av_active_theta_tot_err, pct_improvement))"
   ]
  },
  {
   "cell_type": "code",
   "execution_count": null,
   "metadata": {
    "collapsed": true
   },
   "outputs": [],
   "source": []
  },
  {
   "cell_type": "code",
   "execution_count": null,
   "metadata": {
    "collapsed": true
   },
   "outputs": [],
   "source": []
  },
  {
   "cell_type": "code",
   "execution_count": null,
   "metadata": {
    "collapsed": true
   },
   "outputs": [],
   "source": []
  },
  {
   "cell_type": "code",
   "execution_count": null,
   "metadata": {
    "collapsed": true
   },
   "outputs": [],
   "source": []
  }
 ],
 "metadata": {
  "kernelspec": {
   "display_name": "Python 3",
   "language": "python",
   "name": "python3"
  },
  "language_info": {
   "codemirror_mode": {
    "name": "ipython",
    "version": 3
   },
   "file_extension": ".py",
   "mimetype": "text/x-python",
   "name": "python",
   "nbconvert_exporter": "python",
   "pygments_lexer": "ipython3",
   "version": "3.6.0"
  }
 },
 "nbformat": 4,
 "nbformat_minor": 2
}
